{
 "cells": [
  {
   "cell_type": "code",
   "execution_count": 1,
   "metadata": {},
   "outputs": [],
   "source": [
    "import pandas as pd"
   ]
  },
  {
   "cell_type": "code",
   "execution_count": 47,
   "metadata": {},
   "outputs": [],
   "source": [
    "import matplotlib.pyplot as plt\n",
    "\n",
    "%matplotlib inline"
   ]
  },
  {
   "cell_type": "code",
   "execution_count": 3,
   "metadata": {},
   "outputs": [],
   "source": [
    "plt.rc(\"font\",family=\"Malgun Gothic\")\n",
    "plt.rc(\"axes\",unicode_minus=False)\n",
    "plt.style.use(\"fivethirtyeight\")"
   ]
  },
  {
   "cell_type": "code",
   "execution_count": 5,
   "metadata": {},
   "outputs": [],
   "source": [
    "from IPython.display import set_matplotlib_formats\n",
    "set_matplotlib_formats(\"retina\")"
   ]
  },
  {
   "cell_type": "code",
   "execution_count": 6,
   "metadata": {},
   "outputs": [],
   "source": [
    "df = pd.read_csv(\"seoul_covid19.csv\")"
   ]
  },
  {
   "cell_type": "code",
   "execution_count": 7,
   "metadata": {},
   "outputs": [
    {
     "data": {
      "text/html": [
       "<div>\n",
       "<style scoped>\n",
       "    .dataframe tbody tr th:only-of-type {\n",
       "        vertical-align: middle;\n",
       "    }\n",
       "\n",
       "    .dataframe tbody tr th {\n",
       "        vertical-align: top;\n",
       "    }\n",
       "\n",
       "    .dataframe thead th {\n",
       "        text-align: right;\n",
       "    }\n",
       "</style>\n",
       "<table border=\"1\" class=\"dataframe\">\n",
       "  <thead>\n",
       "    <tr style=\"text-align: right;\">\n",
       "      <th></th>\n",
       "      <th>연번</th>\n",
       "      <th>환자</th>\n",
       "      <th>확진일</th>\n",
       "      <th>거주지</th>\n",
       "      <th>여행력</th>\n",
       "      <th>접촉력</th>\n",
       "      <th>조치상황</th>\n",
       "      <th>년월</th>\n",
       "      <th>년월일</th>\n",
       "      <th>월</th>\n",
       "      <th>주</th>\n",
       "      <th>년주</th>\n",
       "    </tr>\n",
       "  </thead>\n",
       "  <tbody>\n",
       "    <tr>\n",
       "      <td>0</td>\n",
       "      <td>23459</td>\n",
       "      <td>75194</td>\n",
       "      <td>2021-01-24</td>\n",
       "      <td>타시도</td>\n",
       "      <td>-</td>\n",
       "      <td>감염경로 조사중</td>\n",
       "      <td>치료중</td>\n",
       "      <td>21-01</td>\n",
       "      <td>21-01-24</td>\n",
       "      <td>1</td>\n",
       "      <td>3</td>\n",
       "      <td>2021-03</td>\n",
       "    </tr>\n",
       "    <tr>\n",
       "      <td>1</td>\n",
       "      <td>23458</td>\n",
       "      <td>75327</td>\n",
       "      <td>2021-01-24</td>\n",
       "      <td>관악구</td>\n",
       "      <td>-</td>\n",
       "      <td>타시도 확진자 접촉</td>\n",
       "      <td>치료중</td>\n",
       "      <td>21-01</td>\n",
       "      <td>21-01-24</td>\n",
       "      <td>1</td>\n",
       "      <td>3</td>\n",
       "      <td>2021-03</td>\n",
       "    </tr>\n",
       "    <tr>\n",
       "      <td>2</td>\n",
       "      <td>23457</td>\n",
       "      <td>75378</td>\n",
       "      <td>2021-01-24</td>\n",
       "      <td>관악구</td>\n",
       "      <td>-</td>\n",
       "      <td>기타 확진자 접촉</td>\n",
       "      <td>치료중</td>\n",
       "      <td>21-01</td>\n",
       "      <td>21-01-24</td>\n",
       "      <td>1</td>\n",
       "      <td>3</td>\n",
       "      <td>2021-03</td>\n",
       "    </tr>\n",
       "    <tr>\n",
       "      <td>3</td>\n",
       "      <td>23456</td>\n",
       "      <td>75369</td>\n",
       "      <td>2021-01-24</td>\n",
       "      <td>종로구</td>\n",
       "      <td>-</td>\n",
       "      <td>병원 및 요양시설</td>\n",
       "      <td>치료중</td>\n",
       "      <td>21-01</td>\n",
       "      <td>21-01-24</td>\n",
       "      <td>1</td>\n",
       "      <td>3</td>\n",
       "      <td>2021-03</td>\n",
       "    </tr>\n",
       "    <tr>\n",
       "      <td>4</td>\n",
       "      <td>23455</td>\n",
       "      <td>75356</td>\n",
       "      <td>2021-01-24</td>\n",
       "      <td>강동구</td>\n",
       "      <td>-</td>\n",
       "      <td>기타 확진자 접촉</td>\n",
       "      <td>치료중</td>\n",
       "      <td>21-01</td>\n",
       "      <td>21-01-24</td>\n",
       "      <td>1</td>\n",
       "      <td>3</td>\n",
       "      <td>2021-03</td>\n",
       "    </tr>\n",
       "    <tr>\n",
       "      <td>...</td>\n",
       "      <td>...</td>\n",
       "      <td>...</td>\n",
       "      <td>...</td>\n",
       "      <td>...</td>\n",
       "      <td>...</td>\n",
       "      <td>...</td>\n",
       "      <td>...</td>\n",
       "      <td>...</td>\n",
       "      <td>...</td>\n",
       "      <td>...</td>\n",
       "      <td>...</td>\n",
       "      <td>...</td>\n",
       "    </tr>\n",
       "    <tr>\n",
       "      <td>23454</td>\n",
       "      <td>5</td>\n",
       "      <td>9</td>\n",
       "      <td>2020-01-31</td>\n",
       "      <td>성북구</td>\n",
       "      <td>-</td>\n",
       "      <td>기타 확진자 접촉</td>\n",
       "      <td>퇴원</td>\n",
       "      <td>20-01</td>\n",
       "      <td>20-01-31</td>\n",
       "      <td>1</td>\n",
       "      <td>5</td>\n",
       "      <td>2020-05</td>\n",
       "    </tr>\n",
       "    <tr>\n",
       "      <td>23455</td>\n",
       "      <td>4</td>\n",
       "      <td>7</td>\n",
       "      <td>2020-01-30</td>\n",
       "      <td>마포구</td>\n",
       "      <td>중국</td>\n",
       "      <td>해외유입</td>\n",
       "      <td>퇴원</td>\n",
       "      <td>20-01</td>\n",
       "      <td>20-01-30</td>\n",
       "      <td>1</td>\n",
       "      <td>5</td>\n",
       "      <td>2020-05</td>\n",
       "    </tr>\n",
       "    <tr>\n",
       "      <td>23456</td>\n",
       "      <td>3</td>\n",
       "      <td>6</td>\n",
       "      <td>2020-01-30</td>\n",
       "      <td>종로구</td>\n",
       "      <td>-</td>\n",
       "      <td>종로구 집단발병</td>\n",
       "      <td>퇴원</td>\n",
       "      <td>20-01</td>\n",
       "      <td>20-01-30</td>\n",
       "      <td>1</td>\n",
       "      <td>5</td>\n",
       "      <td>2020-05</td>\n",
       "    </tr>\n",
       "    <tr>\n",
       "      <td>23457</td>\n",
       "      <td>2</td>\n",
       "      <td>5</td>\n",
       "      <td>2020-01-30</td>\n",
       "      <td>중랑구</td>\n",
       "      <td>중국</td>\n",
       "      <td>해외유입</td>\n",
       "      <td>퇴원</td>\n",
       "      <td>20-01</td>\n",
       "      <td>20-01-30</td>\n",
       "      <td>1</td>\n",
       "      <td>5</td>\n",
       "      <td>2020-05</td>\n",
       "    </tr>\n",
       "    <tr>\n",
       "      <td>23458</td>\n",
       "      <td>1</td>\n",
       "      <td>2</td>\n",
       "      <td>2020-01-24</td>\n",
       "      <td>강서구</td>\n",
       "      <td>중국</td>\n",
       "      <td>해외유입</td>\n",
       "      <td>퇴원</td>\n",
       "      <td>20-01</td>\n",
       "      <td>20-01-24</td>\n",
       "      <td>1</td>\n",
       "      <td>4</td>\n",
       "      <td>2020-04</td>\n",
       "    </tr>\n",
       "  </tbody>\n",
       "</table>\n",
       "<p>23459 rows × 12 columns</p>\n",
       "</div>"
      ],
      "text/plain": [
       "          연번     환자         확진일  거주지 여행력         접촉력 조치상황     년월       년월일  월  \\\n",
       "0      23459  75194  2021-01-24  타시도   -    감염경로 조사중  치료중  21-01  21-01-24  1   \n",
       "1      23458  75327  2021-01-24  관악구   -  타시도 확진자 접촉  치료중  21-01  21-01-24  1   \n",
       "2      23457  75378  2021-01-24  관악구   -   기타 확진자 접촉  치료중  21-01  21-01-24  1   \n",
       "3      23456  75369  2021-01-24  종로구   -   병원 및 요양시설  치료중  21-01  21-01-24  1   \n",
       "4      23455  75356  2021-01-24  강동구   -   기타 확진자 접촉  치료중  21-01  21-01-24  1   \n",
       "...      ...    ...         ...  ...  ..         ...  ...    ...       ... ..   \n",
       "23454      5      9  2020-01-31  성북구   -   기타 확진자 접촉   퇴원  20-01  20-01-31  1   \n",
       "23455      4      7  2020-01-30  마포구  중국        해외유입   퇴원  20-01  20-01-30  1   \n",
       "23456      3      6  2020-01-30  종로구   -    종로구 집단발병   퇴원  20-01  20-01-30  1   \n",
       "23457      2      5  2020-01-30  중랑구  중국        해외유입   퇴원  20-01  20-01-30  1   \n",
       "23458      1      2  2020-01-24  강서구  중국        해외유입   퇴원  20-01  20-01-24  1   \n",
       "\n",
       "       주       년주  \n",
       "0      3  2021-03  \n",
       "1      3  2021-03  \n",
       "2      3  2021-03  \n",
       "3      3  2021-03  \n",
       "4      3  2021-03  \n",
       "...   ..      ...  \n",
       "23454  5  2020-05  \n",
       "23455  5  2020-05  \n",
       "23456  5  2020-05  \n",
       "23457  5  2020-05  \n",
       "23458  4  2020-04  \n",
       "\n",
       "[23459 rows x 12 columns]"
      ]
     },
     "execution_count": 7,
     "metadata": {},
     "output_type": "execute_result"
    }
   ],
   "source": [
    "df"
   ]
  },
  {
   "cell_type": "code",
   "execution_count": 10,
   "metadata": {},
   "outputs": [
    {
     "data": {
      "text/plain": [
       "기타 확진자 접촉                 7294\n",
       "감염경로 조사중                  5417\n",
       "동부구치소 관련                  1175\n",
       "타시도 확진자 접촉                1016\n",
       "해외유입                       772\n",
       "성북구 사랑제일교회 관련              641\n",
       "강서구 교회 관련                  246\n",
       "종로구 소재 파고다타운 관련            227\n",
       "구로구 소재 요양병원/요양원 관련         226\n",
       "강서구 댄스교습관련 시설              224\n",
       "이태원 클럽 관련                  139\n",
       "8.15서울도심집회                 126\n",
       "마포구 홍대새교회 관련               109\n",
       "Ace 손해보험                    98\n",
       "서초구 사우나Ⅱ 관련                 86\n",
       "서초구 사우나 관련                  79\n",
       "송파구 소재 장애인 거주시설 관련          78\n",
       "용산구 소재 건설현장 관련              77\n",
       "용인시 우리제일교회 관련               74\n",
       "동대문구 에이스희망케어센터 관련           72\n",
       "동대문구 지혜병원 관련                71\n",
       "도봉구 다나병원                    68\n",
       "강남구 헬스장 관련                  66\n",
       "중랑구 소재 종교시설 관련              65\n",
       "양천구 소재 요양시설2 관련             55\n",
       "동작구 임용단기고시 관련               54\n",
       "강서구 댄스교습 연관 병원 관련           53\n",
       "중랑구 실내 체육시설 Ⅱ 관련            52\n",
       "병원 및 요양시설                   47\n",
       "리치웨이                        47\n",
       "노원구 빛가온교회 관련                46\n",
       "강남구 럭키사우나 관련                45\n",
       "송파구 잠언의료기 (강남구 CJ텔레닉스)      44\n",
       "양천구 소재 요양시설1 관련             44\n",
       "동대문구 소재 어르신복지시설 관련          43\n",
       "도봉구 요양시설 관련                 43\n",
       "양천구운동시설                     43\n",
       "중구 소재 시장(남대문시장) 관련          43\n",
       "성북구 체대입시 관련                 43\n",
       "리치웨이 [명성하우징]                42\n",
       "Name: 접촉력, dtype: int64"
      ]
     },
     "execution_count": 10,
     "metadata": {},
     "output_type": "execute_result"
    }
   ],
   "source": [
    "df[\"접촉력\"].value_counts().head(40)"
   ]
  },
  {
   "cell_type": "code",
   "execution_count": 11,
   "metadata": {
    "scrolled": true
   },
   "outputs": [
    {
     "data": {
      "text/plain": [
       "array(['감염경로 조사중', '타시도 확진자 접촉', '기타 확진자 접촉', '병원 및 요양시설', '해외유입',\n",
       "       '영등포구 소재 의료기관2 관련', '종로구 소재 요양시설2 관련', '강동구 가족관련',\n",
       "       '성동구 소재 거주시설/요양시설 관련', '동부구치소 관련', '강남구 소재 직장3 관련',\n",
       "       '강남구 소재 사우나 관련', '성동구 소재 사우나 관련', '종로구 소재 직장 관련',\n",
       "       '영등포구 소재 의료기관 관련', '양천구 소재 직장 관련', '강북구 소재 아동관련 시설',\n",
       "       '강남구 소재 직장1 관련', '종로구 소재 직장관련', '상주 BTJ 열방센터 관련', '마포구 소재 종교시설',\n",
       "       '종로구 소재 콜센터 관련', '서대문구 소재 의료기관/종교시설 관련', '은평구 소재 병원3 관련',\n",
       "       '용산구 소재 미군기지 관련', '송파구 소재 고시텔 관련', '동대문구 소재 대학교 관련',\n",
       "       '강남구 소재 어학원3 관련', '종로구 소재 사우나 관련', '동대문구 소재 현대대중사우나 관련',\n",
       "       '도봉구 소재 어린이집 관련', '양천구 소재 요양시설2 관련', '동대문구 소재 역사 관련',\n",
       "       '강남구 소재 직장 2 관련', '광진구 소재 요양시설 관련', '동작구 소재 직장관련',\n",
       "       '서대문구 소재 종교시설 관련', '구로구 소재 요양병원/요양원 관련', '중랑구 소재 종교시설 관련',\n",
       "       '강동구 소재 요양병원 관련', '양천구 소재 요양시설1 관련', '타지역 확진자 접촉',\n",
       "       '관악구 소재 종교시설 관련', '영등포구 소재 장례식장 관련', '은평구 소재 병원관련', '강북구 소재 교회 관련',\n",
       "       '동대문구 소재 어르신복지시설 관련', '송파구 소재 장애인 거주시설 관련', '종로구 소재 요양시설 관련',\n",
       "       '강남구 소재 택시회사 관련', '마포구 소재 보험회사 관련', '기타확진자 접촉', '강동구 지인모임 관련',\n",
       "       '남부교도소 관련', '강남구 콜센터Ⅱ 관련', '노원구 소재 병원 관련',\n",
       "       '타시도 확진자 접촉(경기이천시물류센터관련)', '강서구 교회 관련', '서초구 소재 종교시설 관련',\n",
       "       '영등포 소재 의료기관 관련', '기타 확진자 접촉종', '성북구 종교시설(장암교회) 관련',\n",
       "       '구로구 소재 병원 관련', '용산구 소재 건설현장 관련', '금천구 소재 교회 관련',\n",
       "       '구로구 소재 산후조리원 관련', '동대문구 지혜병원 관련', '영등포구 소재 의료기관', '부산제일나라요양병원 관련',\n",
       "       '중구 소재 직장 관련', '송파구 소재 병원관련(12월)', '서초구소재 종교시설 관련',\n",
       "       '강남구 소재 공기업 관련', '중구 콜센터', '강남구 개인사저 경비팀', '중구 소재 콜센터(한전SCS) 관련',\n",
       "       '동대문구 소재 교회관련(하예성교회)', '중구 콜센터Ⅱ 관련', '동대문구 소재 교회관련',\n",
       "       '종로구 소재 파고다타운 관련', '감염경로조사중', '중랑구 소재 병원 관련', '서초구 소재 병원',\n",
       "       '용산구 음식점 관련', '중구 소재 시장(남대문시장) 관련', '서초구 사우나Ⅱ 관련', '동작구 사우나 관련',\n",
       "       '강서구 댄스교습 연관 병원 관련', '영등포구 소재 콜센터 관련', '광진구 소재 병원 관련',\n",
       "       '송파구 체육시설 관련', '고려대학교 밴드동아리', '마포구 소재 노인복지시설 관련', '성동구 소재 병원 관련',\n",
       "       '강남구 소재 마사지샵 관련', '제주여행(퇴직교사) 관련', '서초구 건설회사 관련',\n",
       "       '중랑구 실내 체육시설 Ⅱ 관련', '강남구 어학원 관련Ⅰ', '구로구 소재 보험회사 관련',\n",
       "       '구로구 소재 고등학교 관련', '영등포구 학원 관련', '노원구 소재 회사 관련', '강북구 새노래교회 관련',\n",
       "       '아산병원', '여의도 순복음교회 관련', '동대문구 체육시설 관련', '강서구 댄스교습관련 시설',\n",
       "       '노원구 체육시설 관련', '은평구 소재 역사관련', '마포구 홈쇼핑회사 관련', '노원구 의료기관 관련',\n",
       "       '강서구 소재 병원관련(11월)', '성동구 병원 관련', '소규모 지인모임', '성북구 소재 공연연습실',\n",
       "       '마포구 빌딩 관련', '노원구 소재 교회 관련', '송파구 사우나 관련', '저축 금융컨설팅 관련',\n",
       "       '동창 운동 모임 관련', '영등포구 소재 교회 관련', '강남구 음식점Ⅱ 관련', '노원구청 관련',\n",
       "       '마포구 홍대새교회 관련', '어플소모임 관련', '연세대 학생 관련', '용산구 소재 음식점 등 관련',\n",
       "       '강남구 연기학원 관련', '중구 콜센터Ⅰ관련', '관악구 소재 음식점 관련', '구로구소재 고등학교 관련',\n",
       "       '강남구 소재 요양병원', '서초구 사우나 관련', '성북구 소재 의료기관', '강남구 소재 병원 관련',\n",
       "       '성동구 소재 의료기관 관련', '수도권산악회(11월) 관련', '동작구 최비야 관련', '동작구 임용단기고시 관련',\n",
       "       '강남구 어학원 관련Ⅱ', '강남구 소재 콜센터 관련', '송파구 소재 의료기관 관련', '엠넷체육관 지인',\n",
       "       '동대문구 고등학교 관련', '춘천 연탄봉사모임 관련', '동작구 교회 기도처 관련', '영등포구 회사 관련',\n",
       "       '도봉구 청련사 관련', '송파구 잠언의료기 (강남구 CJ텔레닉스)', '성동구 소재 PC방 관련',\n",
       "       '강남구 콜센터 관련', '중구 소재 판매시설 관련', '강서구 경로당 관련', '중구 성00 관련',\n",
       "       '성동구 체육시설 관련', '강서구 가족 관련', '노원구 가족관련', '중구 제조업공장 관련',\n",
       "       '서대문구 요양시설 관련', '중구 소재 보람상조회사 관련', '용산구 국군복지단', '지인-가족전파',\n",
       "       '동작구 모조카페', '수도권 지인모임(11월) 관련', '중랑구 체육시설 관련', '강남구 헬스장 관련',\n",
       "       '성북구 가족 관련', '성동구 금호노인요양원 관련', '동대문구 에이스희망케어센터 관련', '서울대병원 발생 관련',\n",
       "       '도봉구 의류업작업장 관련', '서초구 소재 교회/교육원 관련', '서울시청(11월) 관련', '서초구 어린이집 관련',\n",
       "       '동작구 가족관련(11월)', '송파구 지인강원여행모임', '성동구 시장관련', '영등포구 증권회사 관련',\n",
       "       '수도권 미술대학원/아이스하키 관련', '강서구 지인모임 관련(11월)', '송파구 소재 병원관련(뉴스타트)',\n",
       "       '강동구 소재 건설현장 관련', '강서구 사우나 관련', '생일파티모임관련',\n",
       "       '타시도 확진자 접촉 [충남아산전기공사업체관련]', '서울음악 교습 관련', '강서구 보험회사 관련',\n",
       "       '노원구 재가요양서비스 관련', '송파구 시장 관련', '강남구 럭키사우나 관련',\n",
       "       '기타 확진자 접촉 [강남구 제약회사 관련]', '영등포구 가족관련 [송파구소재 건설현장)', '관악구 삼모스포렉스Ⅱ',\n",
       "       '용인시 동문골프 모임', '용산구 소재 의류업체', '서초구 빌딩 관련', '종로구 녹음실 관련',\n",
       "       '송파구 소재 교회관련', '동대문구 한국산업인력공단', '언론인 관련', '제주도 지인모임', '구로구 가족관련',\n",
       "       '구로구 가족관련 [부천무용학원관련]', '은평구 방문교사 관련', '강남구 역삼역 관련',\n",
       "       '기타 확진자 접촉 [경기도 SRC재활병원]', '강남서초 지인모임', '도봉구 가족관련 Ⅱ', '수도권 지인모임 Ⅱ',\n",
       "       '중구 소재 콜센터', '영등포구 가족관련', '서대문구 소재 장례식장', '도봉구 예마루데이케어센터',\n",
       "       '도봉구 다나병원', '영등포구 방문판매업체 관련', '송파구 잠언의료기', '강동구 행복데이케어센터',\n",
       "       '중랑구 이마트 상봉점', '강남구 해냄세무회계', '동작구 가족관련', '관악구 식당관련', '영등포구 소모임',\n",
       "       '송파구 서민국수관련', '중구 소재 빌딩 관련', '마포구 서울디자인 고등학교',\n",
       "       '타시도 확진자 접촉 [강원 강릉시 지인모임]', '강남승광빌딩 관련', '관악구 사랑나무 어린이집',\n",
       "       '관악구 큰믿음유신감리교회', '동대문구 성경모임(발산대우주어린이집)', '강북구 북서울 꿈의교회',\n",
       "       '강남구 소재 대우디오빌플러스', '영등포구 LG트윈타워', '부산시 방문주사 관련', '서초구 소재 카페 관련',\n",
       "       '관악구 지인모임', '동작구 부동산회사', '관악구 휘트니스 관련', '강남구 삼성화재', '양천구 양천경찰서',\n",
       "       '서초구 LG 유플러스', '고양시부부관련(마포구어린이집&서초구우체국)', '관악구 가족 관련 (가가호호데이케어센터)',\n",
       "       '관악구 삼모스포렉스', '신도림 역사 관련', '강남구 디와이디벨로먼트', '송파구 우리교회', '중랑구 서울의료원',\n",
       "       '종로구 서울대병원', '성동구 덕수고 야구부', '타시도 확진자 접촉 (포천소망공동체요양원)',\n",
       "       '프로그래머 지인모임', '강남구 신도벤처타워', '강남구 K보건산업', '건축설명회', '종로구청 관련',\n",
       "       '강남구 통신판매업', '도봉구 소재 아파트 관련', '영등포 소재 증권회사', '서대문구 세브란스병원',\n",
       "       '영등포구 소재 마트 관련', '강남구 소재 금융회사', '동작구 요양시설 관련', '9월 송파구 지인모임',\n",
       "       '은평구 수색성당', '서울지방국세청 관련', '수도권 지인모임', '기타 확진자 접촉 (성남 서호주간센터)',\n",
       "       '서대문구 지인모임', '영등포 지인모임', '관악구 에바다 관련', '광진구 혜민병원', '8.15서울도심집회',\n",
       "       '도봉구 건설현장', '도봉구 운동시설', '기타 확진자 접촉 (동작구 소재 아파트)', '송파구 쿠팡 관련',\n",
       "       '노원구 빛가온교회 관련', '서초구 장애인교육시설', '강동구 BF모바일 관련', '영등포구 일련정종 서울포교소',\n",
       "       '동작구 진흥글로벌', '구로구 아파트 관련 [금천 축산업체]', 'KT가좌지사 관련', '성북구 사랑제일교회 관련',\n",
       "       '노원구 기도모임', '관악구 가족모임', '영등포구 국회출입기자관련', '은평구 헤어콕 관련', '송파구 소재병원',\n",
       "       '극단 산 관련', '영등포구 권능교회', '강동구 소재 병원', '다래경매 관련', '성북구 체대입시 관련',\n",
       "       '성북구 요양시설', '중구소재 은행 관련', '중랑구 소재 체육시설', '동작구 소재 서울신학교',\n",
       "       '동작구 닥터큐 관련', '용인시 우리제일교회 관련', '노원구 손해보험 관련', '구로구 보성운수',\n",
       "       '강서구 서울대효요양병원', '강북구 일가족', '강서구 보안회사', '롯데리아 종사자 모임', '강남구 소재 아파트',\n",
       "       '제주 게스트하우스 관련', '성북구 벧엘장로교회', '관악구 김혜근의원', '동대문구 sk탁구클럽',\n",
       "       '동작구 스터디카페', '군인권센터', '구로구 아파트 관련', '중구 보험회사(현대해상)', '한양대병원',\n",
       "       '강서구 병원관련', '종로구 혜화경찰서 관련', '되새김교회', '현대커머셜', '영등포 IFC몰 오케스트로',\n",
       "       '고양시 반석교회 관련 (케네디상가)', '롯데 자산개발 관련', '골드트레인', '강동구 어린이집',\n",
       "       '은평구 성경공부모임', '관악구 요양병원', '고대 안암병원 관련', '마포구 푸본생명콜센터', '성동구 가족관련',\n",
       "       '중구 통일상가', '강남구 판매업소', '도봉구 가족관련', '강남구 커피전문점 (할리스)', '선교회 소모임',\n",
       "       '송파구 교회 관련', '종로구 지인모임 [신명투자]', '강서구 요양시설 관련', '강남구 사무실 (K빌딩)',\n",
       "       '송파구 지인모임', '관악구 사무실 관련', '강남구 사무실(V빌딩, 한화생명)', '강남역삼동금융회사',\n",
       "       '타시도 확진자 접촉 (수원 베이비시터 관련)', '강남 이동통신 종사자', '강남구 역삼동 모임',\n",
       "       '타시도 확진자 접촉 (의정부아파트관련)', '강남구 소재 사무실', '관악구 왕성교회', '중랑구 일가족',\n",
       "       '관악구 중국동포 일가족', '대전 꿈꾸는 교회', '리치웨이', '현대카드 관악구 왕성교회', '예스병원',\n",
       "       '대전 다단계 관련', '리치웨이 [명성하우징]', '도봉구 요양시설 관련', '리치웨이 [SJ투자회사]',\n",
       "       '리치웨이 [이민자 쉼터]', '서울시청역 시설개선공사 안전요원관련', '대자연 코리아', '의왕 롯데 물류센터 관련',\n",
       "       '금천구 도정기회사 관련', '양천구운동시설', '강남구 오렌지라이프 관련', '수도권 개척교회모임',\n",
       "       '국방안보지원사령부', '연아나 뉴스클래스', '예수제자교회 한국대학생 선교회(CCC) 관련', '부천 대웅제약',\n",
       "       '리치웨이 [예수비젼성결교회]', 'KB생명', 'coupang', '이태원 클럽 관련', '용인형제', '삼성화재',\n",
       "       '서초구 가족관련', '안양 목회자 관련', '(인천계양구일가족관련) 연세나로학원',\n",
       "       '강남구 동인교회 관련 (구리시 일가족)', '원어성경연구회', '관악구 투석환자 관련', '은평구가족 관련',\n",
       "       '영랜브란트미술학원', '삼성서울병원', '위에화엔터테인먼트', '타시도 확진자 접촉 [의정부성모]', '만민중앙교회',\n",
       "       '의정부성모', 'Liquid Soul', 'ㅋㅋ트랜드', '이에스에스콤글로벌', '서울아산병원', 'Ace 손해보험',\n",
       "       '플링크(IT기업)', '성남 은혜의강 교회', '삼성물산', '동대문관련(교회pc방)', 'EZHLD',\n",
       "       '동대문관련(요양보호사)', '신 천 지', '세브란스', '성동구 아파트 관리사무소', '은평성모병원', '명성교회',\n",
       "       '종로구 집단발병'], dtype=object)"
      ]
     },
     "execution_count": 11,
     "metadata": {},
     "output_type": "execute_result"
    }
   ],
   "source": [
    "df[\"접촉력\"].uniqueue()"
   ]
  },
  {
   "cell_type": "code",
   "execution_count": 14,
   "metadata": {},
   "outputs": [
    {
     "data": {
      "text/plain": [
       "array(['감염경로 조사중', '감염경로조사중'], dtype=object)"
      ]
     },
     "execution_count": 14,
     "metadata": {},
     "output_type": "execute_result"
    }
   ],
   "source": [
    "df.loc[df[\"접촉력\"].str.contains(\"조사중\"),\"접촉력\"].unique()"
   ]
  },
  {
   "cell_type": "code",
   "execution_count": 15,
   "metadata": {},
   "outputs": [],
   "source": [
    "df.loc[df[\"접촉력\"].str.contains(\"조사중\"),\"접촉력\"] = \"감염경로 조사중\""
   ]
  },
  {
   "cell_type": "code",
   "execution_count": 17,
   "metadata": {},
   "outputs": [
    {
     "data": {
      "text/plain": [
       "array(['감염경로 조사중'], dtype=object)"
      ]
     },
     "execution_count": 17,
     "metadata": {},
     "output_type": "execute_result"
    }
   ],
   "source": [
    "df.loc[df[\"접촉력\"].str.contains(\"조사중\"),\"접촉력\"].unique()"
   ]
  },
  {
   "cell_type": "code",
   "execution_count": 40,
   "metadata": {},
   "outputs": [
    {
     "data": {
      "text/plain": [
       "기타 확진자 접촉             7294\n",
       "감염경로 조사중              5421\n",
       "동부구치소 관련              1175\n",
       "타시도 확진자 접촉            1016\n",
       "해외유입                   772\n",
       "성북구 사랑제일교회 관련          641\n",
       "강서구 교회 관련              246\n",
       "종로구 소재 파고다타운 관련        227\n",
       "구로구 소재 요양병원/요양원 관련     226\n",
       "강서구 댄스교습관련 시설          224\n",
       "이태원 클럽 관련              139\n",
       "8.15서울도심집회             126\n",
       "마포구 홍대새교회 관련           109\n",
       "Name: 접촉력, dtype: int64"
      ]
     },
     "execution_count": 40,
     "metadata": {},
     "output_type": "execute_result"
    }
   ],
   "source": [
    "contact_count = df[\"접촉력\"].value_counts()\n",
    "contact_count_top = contact_count[contact_count.values > 100]\n",
    "contact_count_top"
   ]
  },
  {
   "cell_type": "code",
   "execution_count": 49,
   "metadata": {},
   "outputs": [
    {
     "data": {
      "text/plain": [
       "<AxesSubplot:>"
      ]
     },
     "execution_count": 49,
     "metadata": {},
     "output_type": "execute_result"
    },
    {
     "data": {
      "image/png": "[encoded data removed]",
      "text/plain": [
       "<Figure size 720x1080 with 1 Axes>"
      ]
     },
     "metadata": {
      "image/png": {
       "height": 843,
       "width": 798
      },
      "needs_background": "light"
     },
     "output_type": "display_data"
    }
   ],
   "source": [
    "contact_count_top.plot.barh(figsize=(10,15))"
   ]
  },
  {
   "cell_type": "code",
   "execution_count": null,
   "metadata": {},
   "outputs": [],
   "source": []
  }
 ],
 "metadata": {
  "kernelspec": {
   "display_name": "Python 3",
   "language": "python",
   "name": "python3"
  },
  "language_info": {
   "codemirror_mode": {
    "name": "ipython",
    "version": 3
   },
   "file_extension": ".py",
   "mimetype": "text/x-python",
   "name": "python",
   "nbconvert_exporter": "python",
   "pygments_lexer": "ipython3",
   "version": "3.7.4"
  },
  "toc": {
   "base_numbering": 1,
   "nav_menu": {},
   "number_sections": true,
   "sideBar": true,
   "skip_h1_title": false,
   "title_cell": "Table of Contents",
   "title_sidebar": "Contents",
   "toc_cell": false,
   "toc_position": {},
   "toc_section_display": true,
   "toc_window_display": false
  },
  "varInspector": {
   "cols": {
    "lenName": 16,
    "lenType": 16,
    "lenVar": 40
   },
   "kernels_config": {
    "python": {
     "delete_cmd_postfix": "",
     "delete_cmd_prefix": "del ",
     "library": "var_list.py",
     "varRefreshCmd": "print(var_dic_list())"
    },
    "r": {
     "delete_cmd_postfix": ") ",
     "delete_cmd_prefix": "rm(",
     "library": "var_list.r",
     "varRefreshCmd": "cat(var_dic_list()) "
    }
   },
   "types_to_exclude": [
    "module",
    "function",
    "builtin_function_or_method",
    "instance",
    "_Feature"
   ],
   "window_display": false
  }
 },
 "nbformat": 4,
 "nbformat_minor": 2
}
